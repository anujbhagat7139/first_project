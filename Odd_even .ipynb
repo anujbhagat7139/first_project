{
 "cells": [
  {
   "cell_type": "code",
   "execution_count": 6,
   "id": "ccba23aa",
   "metadata": {},
   "outputs": [
    {
     "name": "stdout",
     "output_type": "stream",
     "text": [
      "welcome to the odd and even projects\n",
      "Enter the number to check odd ao even46\n",
      "46 is even\n"
     ]
    }
   ],
   "source": [
    "print(\"welcome to the odd and even projects\")\n",
    "num=int(input(\"Enter the number to check odd ao even\"))\n",
    "if num%2==0:\n",
    "    print(f\"{num} is even\")\n",
    "else:\n",
    "    print(f\"{num} is odd\")\n",
    "    \n"
   ]
  }
 ],
 "metadata": {
  "kernelspec": {
   "display_name": "Python 3 (ipykernel)",
   "language": "python",
   "name": "python3"
  },
  "language_info": {
   "codemirror_mode": {
    "name": "ipython",
    "version": 3
   },
   "file_extension": ".py",
   "mimetype": "text/x-python",
   "name": "python",
   "nbconvert_exporter": "python",
   "pygments_lexer": "ipython3",
   "version": "3.9.12"
  }
 },
 "nbformat": 4,
 "nbformat_minor": 5
}
